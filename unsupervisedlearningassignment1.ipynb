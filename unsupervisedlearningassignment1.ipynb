{
  "nbformat": 4,
  "nbformat_minor": 0,
  "metadata": {
    "colab": {
      "name": "unsupervisedlearningassignment1.ipynb",
      "provenance": [],
      "collapsed_sections": [],
      "include_colab_link": true
    },
    "kernelspec": {
      "name": "python3",
      "display_name": "Python 3"
    }
  },
  "cells": [
    {
      "cell_type": "markdown",
      "metadata": {
        "id": "view-in-github",
        "colab_type": "text"
      },
      "source": [
        "<a href=\"https://colab.research.google.com/github/19PA1A0495/ML-Clustering/blob/master/unsupervisedlearningassignment1.ipynb\" target=\"_parent\"><img src=\"https://colab.research.google.com/assets/colab-badge.svg\" alt=\"Open In Colab\"/></a>"
      ]
    },
    {
      "cell_type": "code",
      "metadata": {
        "id": "ANdMqDbFJpI4",
        "colab_type": "code",
        "colab": {}
      },
      "source": [
        "#import libraries\n",
        "import numpy as np\n",
        "import pandas as pd\n"
      ],
      "execution_count": 0,
      "outputs": []
    },
    {
      "cell_type": "code",
      "metadata": {
        "id": "Bbw7ZdIeM-aH",
        "colab_type": "code",
        "outputId": "cd2078d9-ceb5-4ad8-9853-3d1837a9cc82",
        "colab": {
          "base_uri": "https://localhost:8080/",
          "height": 85
        }
      },
      "source": [
        "#reading data date wise\n",
        "url='https://raw.githubusercontent.com/CSSEGISandData/COVID-19/master/csse_covid_19_data/csse_covid_19_daily_reports/01-22-2020.csv'\n",
        "data1=pd.read_csv(url)\n",
        "print(data1.head(3))"
      ],
      "execution_count": 3,
      "outputs": [
        {
          "output_type": "stream",
          "text": [
            "  Province/State  Country/Region      Last Update  Confirmed  Deaths  Recovered\n",
            "0          Anhui  Mainland China  1/22/2020 17:00        1.0     NaN        NaN\n",
            "1        Beijing  Mainland China  1/22/2020 17:00       14.0     NaN        NaN\n",
            "2      Chongqing  Mainland China  1/22/2020 17:00        6.0     NaN        NaN\n"
          ],
          "name": "stdout"
        }
      ]
    },
    {
      "cell_type": "code",
      "metadata": {
        "id": "teRO-NQkTJoo",
        "colab_type": "code",
        "outputId": "76abcaf7-6a64-4bb4-e56d-e0f6a11f891a",
        "colab": {
          "base_uri": "https://localhost:8080/",
          "height": 85
        }
      },
      "source": [
        "data2=pd.read_csv('https://raw.githubusercontent.com/CSSEGISandData/COVID-19/master/csse_covid_19_data/csse_covid_19_daily_reports/01-23-2020.csv')\n",
        "print(data2.head(3))"
      ],
      "execution_count": 2,
      "outputs": [
        {
          "output_type": "stream",
          "text": [
            "  Province/State  Country/Region    Last Update  Confirmed  Deaths  Recovered\n",
            "0          Anhui  Mainland China  1/23/20 17:00        9.0     NaN        NaN\n",
            "1        Beijing  Mainland China  1/23/20 17:00       22.0     NaN        NaN\n",
            "2      Chongqing  Mainland China  1/23/20 17:00        9.0     NaN        NaN\n"
          ],
          "name": "stdout"
        }
      ]
    },
    {
      "cell_type": "code",
      "metadata": {
        "id": "4PJpQC60WQEA",
        "colab_type": "code",
        "outputId": "32129531-8946-4544-8aeb-ebddb8308626",
        "colab": {
          "base_uri": "https://localhost:8080/",
          "height": 85
        }
      },
      "source": [
        "data3=pd.read_csv('https://raw.githubusercontent.com/CSSEGISandData/COVID-19/master/csse_covid_19_data/csse_covid_19_daily_reports/01-24-2020.csv')\n",
        "print(data3.head(3))"
      ],
      "execution_count": 4,
      "outputs": [
        {
          "output_type": "stream",
          "text": [
            "  Province/State  Country/Region    Last Update  Confirmed  Deaths  Recovered\n",
            "0          Hubei  Mainland China  1/24/20 17:00      549.0    24.0       31.0\n",
            "1      Guangdong  Mainland China  1/24/20 17:00       53.0     NaN        2.0\n",
            "2       Zhejiang  Mainland China  1/24/20 17:00       43.0     NaN        1.0\n"
          ],
          "name": "stdout"
        }
      ]
    },
    {
      "cell_type": "code",
      "metadata": {
        "id": "SPffau9UW1zg",
        "colab_type": "code",
        "outputId": "4738792f-8d40-456f-e604-262c6019314c",
        "colab": {
          "base_uri": "https://localhost:8080/",
          "height": 85
        }
      },
      "source": [
        "data4=pd.read_csv('https://raw.githubusercontent.com/CSSEGISandData/COVID-19/master/csse_covid_19_data/csse_covid_19_daily_reports/01-25-2020.csv')\n",
        "print(data4.head(3))"
      ],
      "execution_count": 5,
      "outputs": [
        {
          "output_type": "stream",
          "text": [
            "  Province/State  Country/Region    Last Update  Confirmed  Deaths  Recovered\n",
            "0          Hubei  Mainland China  1/25/20 17:00        761    40.0       32.0\n",
            "1      Guangdong  Mainland China  1/25/20 17:00         78     NaN        2.0\n",
            "2       Zhejiang  Mainland China  1/25/20 17:00         62     NaN        1.0\n"
          ],
          "name": "stdout"
        }
      ]
    },
    {
      "cell_type": "code",
      "metadata": {
        "id": "jWKvFbwbW-QV",
        "colab_type": "code",
        "colab": {}
      },
      "source": [
        "data5=pd.read_csv('https://raw.githubusercontent.com/CSSEGISandData/COVID-19/master/csse_covid_19_data/csse_covid_19_daily_reports/01-26-2020.csv')\n",
        "data6=pd.read_csv('https://raw.githubusercontent.com/CSSEGISandData/COVID-19/master/csse_covid_19_data/csse_covid_19_daily_reports/01-27-2020.csv')\n",
        "data7=pd.read_csv('https://raw.githubusercontent.com/CSSEGISandData/COVID-19/master/csse_covid_19_data/csse_covid_19_daily_reports/01-28-2020.csv')\n",
        "data8=pd.read_csv('https://raw.githubusercontent.com/CSSEGISandData/COVID-19/master/csse_covid_19_data/csse_covid_19_daily_reports/01-29-2020.csv')\n",
        "data9=pd.read_csv('https://raw.githubusercontent.com/CSSEGISandData/COVID-19/master/csse_covid_19_data/csse_covid_19_daily_reports/01-30-2020.csv')\n",
        "data10=pd.read_csv('https://raw.githubusercontent.com/CSSEGISandData/COVID-19/master/csse_covid_19_data/csse_covid_19_daily_reports/01-31-2020.csv')\n",
        "\n"
      ],
      "execution_count": 0,
      "outputs": []
    },
    {
      "cell_type": "code",
      "metadata": {
        "id": "miPMsExvYO2T",
        "colab_type": "code",
        "colab": {}
      },
      "source": [
        "data11=pd.read_csv('https://raw.githubusercontent.com/CSSEGISandData/COVID-19/master/csse_covid_19_data/csse_covid_19_daily_reports/02-01-2020.csv')\n",
        "data12=pd.read_csv('https://raw.githubusercontent.com/CSSEGISandData/COVID-19/master/csse_covid_19_data/csse_covid_19_daily_reports/02-02-2020.csv')\n",
        "data13=pd.read_csv('https://raw.githubusercontent.com/CSSEGISandData/COVID-19/master/csse_covid_19_data/csse_covid_19_daily_reports/02-03-2020.csv')\n",
        "data14=pd.read_csv('https://raw.githubusercontent.com/CSSEGISandData/COVID-19/master/csse_covid_19_data/csse_covid_19_daily_reports/02-04-2020.csv')\n",
        "data15=pd.read_csv('https://raw.githubusercontent.com/CSSEGISandData/COVID-19/master/csse_covid_19_data/csse_covid_19_daily_reports/02-05-2020.csv')\n",
        "data16=pd.read_csv('https://raw.githubusercontent.com/CSSEGISandData/COVID-19/master/csse_covid_19_data/csse_covid_19_daily_reports/02-06-2020.csv')\n",
        "data17=pd.read_csv('https://raw.githubusercontent.com/CSSEGISandData/COVID-19/master/csse_covid_19_data/csse_covid_19_daily_reports/02-07-2020.csv')\n",
        "data18=pd.read_csv('https://raw.githubusercontent.com/CSSEGISandData/COVID-19/master/csse_covid_19_data/csse_covid_19_daily_reports/02-08-2020.csv')\n",
        "data19=pd.read_csv('https://raw.githubusercontent.com/CSSEGISandData/COVID-19/master/csse_covid_19_data/csse_covid_19_daily_reports/02-09-2020.csv')\n",
        "data20=pd.read_csv('https://raw.githubusercontent.com/CSSEGISandData/COVID-19/master/csse_covid_19_data/csse_covid_19_daily_reports/02-10-2020.csv')\n",
        "data21=pd.read_csv('https://raw.githubusercontent.com/CSSEGISandData/COVID-19/master/csse_covid_19_data/csse_covid_19_daily_reports/02-11-2020.csv')\n",
        "data22=pd.read_csv('https://raw.githubusercontent.com/CSSEGISandData/COVID-19/master/csse_covid_19_data/csse_covid_19_daily_reports/02-12-2020.csv')\n",
        "data23=pd.read_csv('https://raw.githubusercontent.com/CSSEGISandData/COVID-19/master/csse_covid_19_data/csse_covid_19_daily_reports/02-13-2020.csv')\n",
        "data24=pd.read_csv('https://raw.githubusercontent.com/CSSEGISandData/COVID-19/master/csse_covid_19_data/csse_covid_19_daily_reports/02-14-2020.csv')\n",
        "data25=pd.read_csv('https://raw.githubusercontent.com/CSSEGISandData/COVID-19/master/csse_covid_19_data/csse_covid_19_daily_reports/02-15-2020.csv')\n",
        "data26=pd.read_csv('https://raw.githubusercontent.com/CSSEGISandData/COVID-19/master/csse_covid_19_data/csse_covid_19_daily_reports/02-16-2020.csv')\n",
        "data27=pd.read_csv('https://raw.githubusercontent.com/CSSEGISandData/COVID-19/master/csse_covid_19_data/csse_covid_19_daily_reports/02-17-2020.csv')\n",
        "data28=pd.read_csv('https://raw.githubusercontent.com/CSSEGISandData/COVID-19/master/csse_covid_19_data/csse_covid_19_daily_reports/02-18-2020.csv')\n",
        "data29=pd.read_csv('https://raw.githubusercontent.com/CSSEGISandData/COVID-19/master/csse_covid_19_data/csse_covid_19_daily_reports/02-19-2020.csv')\n",
        "data30=pd.read_csv('https://raw.githubusercontent.com/CSSEGISandData/COVID-19/master/csse_covid_19_data/csse_covid_19_daily_reports/02-20-2020.csv')\n",
        "data31=pd.read_csv('https://raw.githubusercontent.com/CSSEGISandData/COVID-19/master/csse_covid_19_data/csse_covid_19_daily_reports/02-21-2020.csv')\n",
        "data32=pd.read_csv('https://raw.githubusercontent.com/CSSEGISandData/COVID-19/master/csse_covid_19_data/csse_covid_19_daily_reports/02-22-2020.csv')\n",
        "data33=pd.read_csv('https://raw.githubusercontent.com/CSSEGISandData/COVID-19/master/csse_covid_19_data/csse_covid_19_daily_reports/02-23-2020.csv')\n",
        "data34=pd.read_csv('https://raw.githubusercontent.com/CSSEGISandData/COVID-19/master/csse_covid_19_data/csse_covid_19_daily_reports/02-24-2020.csv')\n",
        "data35=pd.read_csv('https://raw.githubusercontent.com/CSSEGISandData/COVID-19/master/csse_covid_19_data/csse_covid_19_daily_reports/02-25-2020.csv')\n",
        "data36=pd.read_csv('https://raw.githubusercontent.com/CSSEGISandData/COVID-19/master/csse_covid_19_data/csse_covid_19_daily_reports/02-26-2020.csv')\n",
        "data37=pd.read_csv('https://raw.githubusercontent.com/CSSEGISandData/COVID-19/master/csse_covid_19_data/csse_covid_19_daily_reports/02-27-2020.csv')\n",
        "data38=pd.read_csv('https://raw.githubusercontent.com/CSSEGISandData/COVID-19/master/csse_covid_19_data/csse_covid_19_daily_reports/02-28-2020.csv')\n",
        "data39=pd.read_csv('https://raw.githubusercontent.com/CSSEGISandData/COVID-19/master/csse_covid_19_data/csse_covid_19_daily_reports/02-29-2020.csv')\n",
        "data40=pd.read_csv('https://raw.githubusercontent.com/CSSEGISandData/COVID-19/master/csse_covid_19_data/csse_covid_19_daily_reports/03-01-2020.csv')\n",
        "data41=pd.read_csv('https://raw.githubusercontent.com/CSSEGISandData/COVID-19/master/csse_covid_19_data/csse_covid_19_daily_reports/03-02-2020.csv')\n",
        "data42=pd.read_csv('https://raw.githubusercontent.com/CSSEGISandData/COVID-19/master/csse_covid_19_data/csse_covid_19_daily_reports/03-03-2020.csv')\n",
        "data43=pd.read_csv('https://raw.githubusercontent.com/CSSEGISandData/COVID-19/master/csse_covid_19_data/csse_covid_19_daily_reports/03-04-2020.csv')\n",
        "data44=pd.read_csv('https://raw.githubusercontent.com/CSSEGISandData/COVID-19/master/csse_covid_19_data/csse_covid_19_daily_reports/03-05-2020.csv')\n",
        "data45=pd.read_csv('https://raw.githubusercontent.com/CSSEGISandData/COVID-19/master/csse_covid_19_data/csse_covid_19_daily_reports/03-06-2020.csv')\n",
        "data46=pd.read_csv('https://raw.githubusercontent.com/CSSEGISandData/COVID-19/master/csse_covid_19_data/csse_covid_19_daily_reports/03-07-2020.csv')\n",
        "data47=pd.read_csv('https://raw.githubusercontent.com/CSSEGISandData/COVID-19/master/csse_covid_19_data/csse_covid_19_daily_reports/03-08-2020.csv')\n",
        "data48=pd.read_csv('https://raw.githubusercontent.com/CSSEGISandData/COVID-19/master/csse_covid_19_data/csse_covid_19_daily_reports/03-09-2020.csv')\n",
        "data49=pd.read_csv('https://raw.githubusercontent.com/CSSEGISandData/COVID-19/master/csse_covid_19_data/csse_covid_19_daily_reports/03-10-2020.csv')\n",
        "data50=pd.read_csv('https://raw.githubusercontent.com/CSSEGISandData/COVID-19/master/csse_covid_19_data/csse_covid_19_daily_reports/03-11-2020.csv')\n",
        "data51=pd.read_csv('https://raw.githubusercontent.com/CSSEGISandData/COVID-19/master/csse_covid_19_data/csse_covid_19_daily_reports/03-12-2020.csv')\n",
        "data52=pd.read_csv('https://raw.githubusercontent.com/CSSEGISandData/COVID-19/master/csse_covid_19_data/csse_covid_19_daily_reports/03-13-2020.csv')\n",
        "data53=pd.read_csv('https://raw.githubusercontent.com/CSSEGISandData/COVID-19/master/csse_covid_19_data/csse_covid_19_daily_reports/03-14-2020.csv')\n",
        "data54=pd.read_csv('https://raw.githubusercontent.com/CSSEGISandData/COVID-19/master/csse_covid_19_data/csse_covid_19_daily_reports/03-15-2020.csv')\n",
        "data55=pd.read_csv('https://raw.githubusercontent.com/CSSEGISandData/COVID-19/master/csse_covid_19_data/csse_covid_19_daily_reports/03-16-2020.csv')\n",
        "data56=pd.read_csv('https://raw.githubusercontent.com/CSSEGISandData/COVID-19/master/csse_covid_19_data/csse_covid_19_daily_reports/03-17-2020.csv')\n",
        "data57=pd.read_csv('https://raw.githubusercontent.com/CSSEGISandData/COVID-19/master/csse_covid_19_data/csse_covid_19_daily_reports/03-18-2020.csv')\n",
        "data58=pd.read_csv('https://raw.githubusercontent.com/CSSEGISandData/COVID-19/master/csse_covid_19_data/csse_covid_19_daily_reports/03-19-2020.csv')\n",
        "data59=pd.read_csv('https://raw.githubusercontent.com/CSSEGISandData/COVID-19/master/csse_covid_19_data/csse_covid_19_daily_reports/03-20-2020.csv')\n",
        "data60=pd.read_csv('https://raw.githubusercontent.com/CSSEGISandData/COVID-19/master/csse_covid_19_data/csse_covid_19_daily_reports/03-21-2020.csv')\n",
        "\n",
        "\n",
        "\n",
        "\n",
        "\n",
        "\n",
        "\n",
        "\n",
        "\n"
      ],
      "execution_count": 0,
      "outputs": []
    },
    {
      "cell_type": "code",
      "metadata": {
        "id": "DSPU_PA1VRN7",
        "colab_type": "code",
        "outputId": "778cac19-2251-4d61-8cb3-57e84a317c7a",
        "colab": {
          "base_uri": "https://localhost:8080/",
          "height": 555
        }
      },
      "source": [
        "# adding all datasets into a single dataset\n",
        "frames=[data1,data2,data3,data4,data5,data6,data7,data8,data9,data10,data11,data12,data13,data14,data15,data16,data17,data18,data19,data20,data21,data22,data23,data24,data25,data26,data27,data28,data29,data30,data31,data32,data33,data34,data35,data36,data37,data38,data39,data40,data41,data42,data43,data44,data45,data46,data47,data48,data49,data50,data51,data52,data53,data54,data55,data56,data57,data58,data59,data60]\n",
        "data_final=pd.concat(frames)\n",
        "data_final\n"
      ],
      "execution_count": 8,
      "outputs": [
        {
          "output_type": "stream",
          "text": [
            "/usr/local/lib/python3.6/dist-packages/ipykernel_launcher.py:2: FutureWarning: Sorting because non-concatenation axis is not aligned. A future version\n",
            "of pandas will change to not sort by default.\n",
            "\n",
            "To accept the future behavior, pass 'sort=False'.\n",
            "\n",
            "To retain the current behavior and silence the warning, pass 'sort=True'.\n",
            "\n",
            "  \n"
          ],
          "name": "stderr"
        },
        {
          "output_type": "execute_result",
          "data": {
            "text/html": [
              "<div>\n",
              "<style scoped>\n",
              "    .dataframe tbody tr th:only-of-type {\n",
              "        vertical-align: middle;\n",
              "    }\n",
              "\n",
              "    .dataframe tbody tr th {\n",
              "        vertical-align: top;\n",
              "    }\n",
              "\n",
              "    .dataframe thead th {\n",
              "        text-align: right;\n",
              "    }\n",
              "</style>\n",
              "<table border=\"1\" class=\"dataframe\">\n",
              "  <thead>\n",
              "    <tr style=\"text-align: right;\">\n",
              "      <th></th>\n",
              "      <th>Confirmed</th>\n",
              "      <th>Country/Region</th>\n",
              "      <th>Deaths</th>\n",
              "      <th>Last Update</th>\n",
              "      <th>Latitude</th>\n",
              "      <th>Longitude</th>\n",
              "      <th>Province/State</th>\n",
              "      <th>Recovered</th>\n",
              "    </tr>\n",
              "  </thead>\n",
              "  <tbody>\n",
              "    <tr>\n",
              "      <th>0</th>\n",
              "      <td>1.0</td>\n",
              "      <td>Mainland China</td>\n",
              "      <td>NaN</td>\n",
              "      <td>1/22/2020 17:00</td>\n",
              "      <td>NaN</td>\n",
              "      <td>NaN</td>\n",
              "      <td>Anhui</td>\n",
              "      <td>NaN</td>\n",
              "    </tr>\n",
              "    <tr>\n",
              "      <th>1</th>\n",
              "      <td>14.0</td>\n",
              "      <td>Mainland China</td>\n",
              "      <td>NaN</td>\n",
              "      <td>1/22/2020 17:00</td>\n",
              "      <td>NaN</td>\n",
              "      <td>NaN</td>\n",
              "      <td>Beijing</td>\n",
              "      <td>NaN</td>\n",
              "    </tr>\n",
              "    <tr>\n",
              "      <th>2</th>\n",
              "      <td>6.0</td>\n",
              "      <td>Mainland China</td>\n",
              "      <td>NaN</td>\n",
              "      <td>1/22/2020 17:00</td>\n",
              "      <td>NaN</td>\n",
              "      <td>NaN</td>\n",
              "      <td>Chongqing</td>\n",
              "      <td>NaN</td>\n",
              "    </tr>\n",
              "    <tr>\n",
              "      <th>3</th>\n",
              "      <td>1.0</td>\n",
              "      <td>Mainland China</td>\n",
              "      <td>NaN</td>\n",
              "      <td>1/22/2020 17:00</td>\n",
              "      <td>NaN</td>\n",
              "      <td>NaN</td>\n",
              "      <td>Fujian</td>\n",
              "      <td>NaN</td>\n",
              "    </tr>\n",
              "    <tr>\n",
              "      <th>4</th>\n",
              "      <td>NaN</td>\n",
              "      <td>Mainland China</td>\n",
              "      <td>NaN</td>\n",
              "      <td>1/22/2020 17:00</td>\n",
              "      <td>NaN</td>\n",
              "      <td>NaN</td>\n",
              "      <td>Gansu</td>\n",
              "      <td>NaN</td>\n",
              "    </tr>\n",
              "    <tr>\n",
              "      <th>...</th>\n",
              "      <td>...</td>\n",
              "      <td>...</td>\n",
              "      <td>...</td>\n",
              "      <td>...</td>\n",
              "      <td>...</td>\n",
              "      <td>...</td>\n",
              "      <td>...</td>\n",
              "      <td>...</td>\n",
              "    </tr>\n",
              "    <tr>\n",
              "      <th>299</th>\n",
              "      <td>0.0</td>\n",
              "      <td>Jersey</td>\n",
              "      <td>0.0</td>\n",
              "      <td>2020-03-17T18:33:03</td>\n",
              "      <td>49.1900</td>\n",
              "      <td>-2.110</td>\n",
              "      <td>NaN</td>\n",
              "      <td>0.0</td>\n",
              "    </tr>\n",
              "    <tr>\n",
              "      <th>300</th>\n",
              "      <td>0.0</td>\n",
              "      <td>Puerto Rico</td>\n",
              "      <td>0.0</td>\n",
              "      <td>2020-03-17T16:13:14</td>\n",
              "      <td>18.2000</td>\n",
              "      <td>-66.500</td>\n",
              "      <td>NaN</td>\n",
              "      <td>0.0</td>\n",
              "    </tr>\n",
              "    <tr>\n",
              "      <th>301</th>\n",
              "      <td>0.0</td>\n",
              "      <td>Republic of the Congo</td>\n",
              "      <td>0.0</td>\n",
              "      <td>2020-03-17T21:33:03</td>\n",
              "      <td>-1.4400</td>\n",
              "      <td>15.556</td>\n",
              "      <td>NaN</td>\n",
              "      <td>0.0</td>\n",
              "    </tr>\n",
              "    <tr>\n",
              "      <th>302</th>\n",
              "      <td>0.0</td>\n",
              "      <td>The Bahamas</td>\n",
              "      <td>0.0</td>\n",
              "      <td>2020-03-19T12:13:38</td>\n",
              "      <td>24.2500</td>\n",
              "      <td>-76.000</td>\n",
              "      <td>NaN</td>\n",
              "      <td>0.0</td>\n",
              "    </tr>\n",
              "    <tr>\n",
              "      <th>303</th>\n",
              "      <td>0.0</td>\n",
              "      <td>The Gambia</td>\n",
              "      <td>0.0</td>\n",
              "      <td>2020-03-18T14:13:56</td>\n",
              "      <td>13.4667</td>\n",
              "      <td>-16.600</td>\n",
              "      <td>NaN</td>\n",
              "      <td>0.0</td>\n",
              "    </tr>\n",
              "  </tbody>\n",
              "</table>\n",
              "<p>7617 rows × 8 columns</p>\n",
              "</div>"
            ],
            "text/plain": [
              "     Confirmed         Country/Region  ...  Province/State Recovered\n",
              "0          1.0         Mainland China  ...           Anhui       NaN\n",
              "1         14.0         Mainland China  ...         Beijing       NaN\n",
              "2          6.0         Mainland China  ...       Chongqing       NaN\n",
              "3          1.0         Mainland China  ...          Fujian       NaN\n",
              "4          NaN         Mainland China  ...           Gansu       NaN\n",
              "..         ...                    ...  ...             ...       ...\n",
              "299        0.0                 Jersey  ...             NaN       0.0\n",
              "300        0.0            Puerto Rico  ...             NaN       0.0\n",
              "301        0.0  Republic of the Congo  ...             NaN       0.0\n",
              "302        0.0            The Bahamas  ...             NaN       0.0\n",
              "303        0.0             The Gambia  ...             NaN       0.0\n",
              "\n",
              "[7617 rows x 8 columns]"
            ]
          },
          "metadata": {
            "tags": []
          },
          "execution_count": 8
        }
      ]
    },
    {
      "cell_type": "code",
      "metadata": {
        "id": "iBUMbo4y94i_",
        "colab_type": "code",
        "outputId": "f439f2b8-6c11-4080-ff40-2fa4afb61ee7",
        "colab": {
          "base_uri": "https://localhost:8080/",
          "height": 297
        }
      },
      "source": [
        "data_final.describe()"
      ],
      "execution_count": 9,
      "outputs": [
        {
          "output_type": "execute_result",
          "data": {
            "text/html": [
              "<div>\n",
              "<style scoped>\n",
              "    .dataframe tbody tr th:only-of-type {\n",
              "        vertical-align: middle;\n",
              "    }\n",
              "\n",
              "    .dataframe tbody tr th {\n",
              "        vertical-align: top;\n",
              "    }\n",
              "\n",
              "    .dataframe thead th {\n",
              "        text-align: right;\n",
              "    }\n",
              "</style>\n",
              "<table border=\"1\" class=\"dataframe\">\n",
              "  <thead>\n",
              "    <tr style=\"text-align: right;\">\n",
              "      <th></th>\n",
              "      <th>Confirmed</th>\n",
              "      <th>Deaths</th>\n",
              "      <th>Latitude</th>\n",
              "      <th>Longitude</th>\n",
              "      <th>Recovered</th>\n",
              "    </tr>\n",
              "  </thead>\n",
              "  <tbody>\n",
              "    <tr>\n",
              "      <th>count</th>\n",
              "      <td>7598.000000</td>\n",
              "      <td>7176.000000</td>\n",
              "      <td>4799.000000</td>\n",
              "      <td>4799.000000</td>\n",
              "      <td>7229.000000</td>\n",
              "    </tr>\n",
              "    <tr>\n",
              "      <th>mean</th>\n",
              "      <td>639.727165</td>\n",
              "      <td>23.357023</td>\n",
              "      <td>29.152227</td>\n",
              "      <td>6.297000</td>\n",
              "      <td>246.992253</td>\n",
              "    </tr>\n",
              "    <tr>\n",
              "      <th>std</th>\n",
              "      <td>4946.867487</td>\n",
              "      <td>227.387475</td>\n",
              "      <td>21.927711</td>\n",
              "      <td>84.758913</td>\n",
              "      <td>2740.468957</td>\n",
              "    </tr>\n",
              "    <tr>\n",
              "      <th>min</th>\n",
              "      <td>0.000000</td>\n",
              "      <td>0.000000</td>\n",
              "      <td>-41.454500</td>\n",
              "      <td>-157.858400</td>\n",
              "      <td>0.000000</td>\n",
              "    </tr>\n",
              "    <tr>\n",
              "      <th>25%</th>\n",
              "      <td>2.000000</td>\n",
              "      <td>0.000000</td>\n",
              "      <td>21.000000</td>\n",
              "      <td>-75.015200</td>\n",
              "      <td>0.000000</td>\n",
              "    </tr>\n",
              "    <tr>\n",
              "      <th>50%</th>\n",
              "      <td>16.000000</td>\n",
              "      <td>0.000000</td>\n",
              "      <td>35.443700</td>\n",
              "      <td>11.609400</td>\n",
              "      <td>1.000000</td>\n",
              "    </tr>\n",
              "    <tr>\n",
              "      <th>75%</th>\n",
              "      <td>125.000000</td>\n",
              "      <td>1.000000</td>\n",
              "      <td>42.756000</td>\n",
              "      <td>89.046200</td>\n",
              "      <td>12.000000</td>\n",
              "    </tr>\n",
              "    <tr>\n",
              "      <th>max</th>\n",
              "      <td>67800.000000</td>\n",
              "      <td>4825.000000</td>\n",
              "      <td>72.000000</td>\n",
              "      <td>178.065000</td>\n",
              "      <td>58946.000000</td>\n",
              "    </tr>\n",
              "  </tbody>\n",
              "</table>\n",
              "</div>"
            ],
            "text/plain": [
              "          Confirmed       Deaths     Latitude    Longitude     Recovered\n",
              "count   7598.000000  7176.000000  4799.000000  4799.000000   7229.000000\n",
              "mean     639.727165    23.357023    29.152227     6.297000    246.992253\n",
              "std     4946.867487   227.387475    21.927711    84.758913   2740.468957\n",
              "min        0.000000     0.000000   -41.454500  -157.858400      0.000000\n",
              "25%        2.000000     0.000000    21.000000   -75.015200      0.000000\n",
              "50%       16.000000     0.000000    35.443700    11.609400      1.000000\n",
              "75%      125.000000     1.000000    42.756000    89.046200     12.000000\n",
              "max    67800.000000  4825.000000    72.000000   178.065000  58946.000000"
            ]
          },
          "metadata": {
            "tags": []
          },
          "execution_count": 9
        }
      ]
    },
    {
      "cell_type": "code",
      "metadata": {
        "id": "ibKyqj4S_75P",
        "colab_type": "code",
        "colab": {}
      },
      "source": [
        "#grouping based on country/region\n",
        "grouped=data_final.groupby('Country/Region')"
      ],
      "execution_count": 0,
      "outputs": []
    },
    {
      "cell_type": "code",
      "metadata": {
        "id": "uRoqOQsyA6r6",
        "colab_type": "code",
        "outputId": "0831f786-e718-447a-e68e-fe6a5cee6ecc",
        "colab": {
          "base_uri": "https://localhost:8080/",
          "height": 481
        }
      },
      "source": [
        "#only considering features of confirmed,deaths and recovered cases\n",
        "d=grouped['Confirmed','Deaths','Recovered'].agg([np.sum])\n",
        "d"
      ],
      "execution_count": 11,
      "outputs": [
        {
          "output_type": "execute_result",
          "data": {
            "text/html": [
              "<div>\n",
              "<style scoped>\n",
              "    .dataframe tbody tr th:only-of-type {\n",
              "        vertical-align: middle;\n",
              "    }\n",
              "\n",
              "    .dataframe tbody tr th {\n",
              "        vertical-align: top;\n",
              "    }\n",
              "\n",
              "    .dataframe thead tr th {\n",
              "        text-align: left;\n",
              "    }\n",
              "\n",
              "    .dataframe thead tr:last-of-type th {\n",
              "        text-align: right;\n",
              "    }\n",
              "</style>\n",
              "<table border=\"1\" class=\"dataframe\">\n",
              "  <thead>\n",
              "    <tr>\n",
              "      <th></th>\n",
              "      <th>Confirmed</th>\n",
              "      <th>Deaths</th>\n",
              "      <th>Recovered</th>\n",
              "    </tr>\n",
              "    <tr>\n",
              "      <th></th>\n",
              "      <th>sum</th>\n",
              "      <th>sum</th>\n",
              "      <th>sum</th>\n",
              "    </tr>\n",
              "    <tr>\n",
              "      <th>Country/Region</th>\n",
              "      <th></th>\n",
              "      <th></th>\n",
              "      <th></th>\n",
              "    </tr>\n",
              "  </thead>\n",
              "  <tbody>\n",
              "    <tr>\n",
              "      <th>Azerbaijan</th>\n",
              "      <td>1.0</td>\n",
              "      <td>0.0</td>\n",
              "      <td>0.0</td>\n",
              "    </tr>\n",
              "    <tr>\n",
              "      <th>Afghanistan</th>\n",
              "      <td>209.0</td>\n",
              "      <td>0.0</td>\n",
              "      <td>6.0</td>\n",
              "    </tr>\n",
              "    <tr>\n",
              "      <th>Albania</th>\n",
              "      <td>535.0</td>\n",
              "      <td>15.0</td>\n",
              "      <td>2.0</td>\n",
              "    </tr>\n",
              "    <tr>\n",
              "      <th>Algeria</th>\n",
              "      <td>790.0</td>\n",
              "      <td>60.0</td>\n",
              "      <td>172.0</td>\n",
              "    </tr>\n",
              "    <tr>\n",
              "      <th>Andorra</th>\n",
              "      <td>310.0</td>\n",
              "      <td>0.0</td>\n",
              "      <td>9.0</td>\n",
              "    </tr>\n",
              "    <tr>\n",
              "      <th>...</th>\n",
              "      <td>...</td>\n",
              "      <td>...</td>\n",
              "      <td>...</td>\n",
              "    </tr>\n",
              "    <tr>\n",
              "      <th>Viet Nam</th>\n",
              "      <td>31.0</td>\n",
              "      <td>0.0</td>\n",
              "      <td>16.0</td>\n",
              "    </tr>\n",
              "    <tr>\n",
              "      <th>Vietnam</th>\n",
              "      <td>1295.0</td>\n",
              "      <td>0.0</td>\n",
              "      <td>535.0</td>\n",
              "    </tr>\n",
              "    <tr>\n",
              "      <th>Zambia</th>\n",
              "      <td>8.0</td>\n",
              "      <td>0.0</td>\n",
              "      <td>0.0</td>\n",
              "    </tr>\n",
              "    <tr>\n",
              "      <th>Zimbabwe</th>\n",
              "      <td>4.0</td>\n",
              "      <td>0.0</td>\n",
              "      <td>0.0</td>\n",
              "    </tr>\n",
              "    <tr>\n",
              "      <th>occupied Palestinian territory</th>\n",
              "      <td>25.0</td>\n",
              "      <td>0.0</td>\n",
              "      <td>0.0</td>\n",
              "    </tr>\n",
              "  </tbody>\n",
              "</table>\n",
              "<p>210 rows × 3 columns</p>\n",
              "</div>"
            ],
            "text/plain": [
              "                               Confirmed Deaths Recovered\n",
              "                                     sum    sum       sum\n",
              "Country/Region                                           \n",
              " Azerbaijan                          1.0    0.0       0.0\n",
              "Afghanistan                        209.0    0.0       6.0\n",
              "Albania                            535.0   15.0       2.0\n",
              "Algeria                            790.0   60.0     172.0\n",
              "Andorra                            310.0    0.0       9.0\n",
              "...                                  ...    ...       ...\n",
              "Viet Nam                            31.0    0.0      16.0\n",
              "Vietnam                           1295.0    0.0     535.0\n",
              "Zambia                               8.0    0.0       0.0\n",
              "Zimbabwe                             4.0    0.0       0.0\n",
              "occupied Palestinian territory      25.0    0.0       0.0\n",
              "\n",
              "[210 rows x 3 columns]"
            ]
          },
          "metadata": {
            "tags": []
          },
          "execution_count": 11
        }
      ]
    },
    {
      "cell_type": "code",
      "metadata": {
        "id": "FpXNRAVXixM4",
        "colab_type": "code",
        "colab": {}
      },
      "source": [
        "%matplotlib inline\n",
        "import matplotlib.pyplot as plt\n",
        "\n",
        "import numpy as np\n",
        "from sklearn.cluster import KMeans #importing kmeans clustering\n"
      ],
      "execution_count": 0,
      "outputs": []
    },
    {
      "cell_type": "code",
      "metadata": {
        "id": "Oy25vDiVHdPq",
        "colab_type": "code",
        "outputId": "b4852711-de38-4c40-db43-a4795d286c29",
        "colab": {
          "base_uri": "https://localhost:8080/",
          "height": 986
        }
      },
      "source": [
        "Nc = range(2, 21)\n",
        "kmeans = [KMeans(n_clusters=i) for i in Nc]\n",
        "kmeans\n"
      ],
      "execution_count": 13,
      "outputs": [
        {
          "output_type": "execute_result",
          "data": {
            "text/plain": [
              "[KMeans(algorithm='auto', copy_x=True, init='k-means++', max_iter=300,\n",
              "        n_clusters=2, n_init=10, n_jobs=None, precompute_distances='auto',\n",
              "        random_state=None, tol=0.0001, verbose=0),\n",
              " KMeans(algorithm='auto', copy_x=True, init='k-means++', max_iter=300,\n",
              "        n_clusters=3, n_init=10, n_jobs=None, precompute_distances='auto',\n",
              "        random_state=None, tol=0.0001, verbose=0),\n",
              " KMeans(algorithm='auto', copy_x=True, init='k-means++', max_iter=300,\n",
              "        n_clusters=4, n_init=10, n_jobs=None, precompute_distances='auto',\n",
              "        random_state=None, tol=0.0001, verbose=0),\n",
              " KMeans(algorithm='auto', copy_x=True, init='k-means++', max_iter=300,\n",
              "        n_clusters=5, n_init=10, n_jobs=None, precompute_distances='auto',\n",
              "        random_state=None, tol=0.0001, verbose=0),\n",
              " KMeans(algorithm='auto', copy_x=True, init='k-means++', max_iter=300,\n",
              "        n_clusters=6, n_init=10, n_jobs=None, precompute_distances='auto',\n",
              "        random_state=None, tol=0.0001, verbose=0),\n",
              " KMeans(algorithm='auto', copy_x=True, init='k-means++', max_iter=300,\n",
              "        n_clusters=7, n_init=10, n_jobs=None, precompute_distances='auto',\n",
              "        random_state=None, tol=0.0001, verbose=0),\n",
              " KMeans(algorithm='auto', copy_x=True, init='k-means++', max_iter=300,\n",
              "        n_clusters=8, n_init=10, n_jobs=None, precompute_distances='auto',\n",
              "        random_state=None, tol=0.0001, verbose=0),\n",
              " KMeans(algorithm='auto', copy_x=True, init='k-means++', max_iter=300,\n",
              "        n_clusters=9, n_init=10, n_jobs=None, precompute_distances='auto',\n",
              "        random_state=None, tol=0.0001, verbose=0),\n",
              " KMeans(algorithm='auto', copy_x=True, init='k-means++', max_iter=300,\n",
              "        n_clusters=10, n_init=10, n_jobs=None, precompute_distances='auto',\n",
              "        random_state=None, tol=0.0001, verbose=0),\n",
              " KMeans(algorithm='auto', copy_x=True, init='k-means++', max_iter=300,\n",
              "        n_clusters=11, n_init=10, n_jobs=None, precompute_distances='auto',\n",
              "        random_state=None, tol=0.0001, verbose=0),\n",
              " KMeans(algorithm='auto', copy_x=True, init='k-means++', max_iter=300,\n",
              "        n_clusters=12, n_init=10, n_jobs=None, precompute_distances='auto',\n",
              "        random_state=None, tol=0.0001, verbose=0),\n",
              " KMeans(algorithm='auto', copy_x=True, init='k-means++', max_iter=300,\n",
              "        n_clusters=13, n_init=10, n_jobs=None, precompute_distances='auto',\n",
              "        random_state=None, tol=0.0001, verbose=0),\n",
              " KMeans(algorithm='auto', copy_x=True, init='k-means++', max_iter=300,\n",
              "        n_clusters=14, n_init=10, n_jobs=None, precompute_distances='auto',\n",
              "        random_state=None, tol=0.0001, verbose=0),\n",
              " KMeans(algorithm='auto', copy_x=True, init='k-means++', max_iter=300,\n",
              "        n_clusters=15, n_init=10, n_jobs=None, precompute_distances='auto',\n",
              "        random_state=None, tol=0.0001, verbose=0),\n",
              " KMeans(algorithm='auto', copy_x=True, init='k-means++', max_iter=300,\n",
              "        n_clusters=16, n_init=10, n_jobs=None, precompute_distances='auto',\n",
              "        random_state=None, tol=0.0001, verbose=0),\n",
              " KMeans(algorithm='auto', copy_x=True, init='k-means++', max_iter=300,\n",
              "        n_clusters=17, n_init=10, n_jobs=None, precompute_distances='auto',\n",
              "        random_state=None, tol=0.0001, verbose=0),\n",
              " KMeans(algorithm='auto', copy_x=True, init='k-means++', max_iter=300,\n",
              "        n_clusters=18, n_init=10, n_jobs=None, precompute_distances='auto',\n",
              "        random_state=None, tol=0.0001, verbose=0),\n",
              " KMeans(algorithm='auto', copy_x=True, init='k-means++', max_iter=300,\n",
              "        n_clusters=19, n_init=10, n_jobs=None, precompute_distances='auto',\n",
              "        random_state=None, tol=0.0001, verbose=0),\n",
              " KMeans(algorithm='auto', copy_x=True, init='k-means++', max_iter=300,\n",
              "        n_clusters=20, n_init=10, n_jobs=None, precompute_distances='auto',\n",
              "        random_state=None, tol=0.0001, verbose=0)]"
            ]
          },
          "metadata": {
            "tags": []
          },
          "execution_count": 13
        }
      ]
    },
    {
      "cell_type": "code",
      "metadata": {
        "id": "2ziyOctI1wy9",
        "colab_type": "code",
        "colab": {}
      },
      "source": [
        "x=d['Confirmed']\n",
        "y=d['Deaths']"
      ],
      "execution_count": 0,
      "outputs": []
    },
    {
      "cell_type": "code",
      "metadata": {
        "id": "qUxBXXDAHPQV",
        "colab_type": "code",
        "outputId": "30e2d396-8ef4-4ba7-99b1-453e54d57eed",
        "colab": {
          "base_uri": "https://localhost:8080/",
          "height": 340
        }
      },
      "source": [
        "score = [kmeans[i].fit(y).score(y) for i in range(len(kmeans))]\n",
        "score"
      ],
      "execution_count": 17,
      "outputs": [
        {
          "output_type": "execute_result",
          "data": {
            "text/plain": [
              "[-1567136338.6473436,\n",
              " -184875878.48067608,\n",
              " -47976108.395121716,\n",
              " -39193676.466019414,\n",
              " -8802983.39512195,\n",
              " -2155936.700248756,\n",
              " -791958.7288461538,\n",
              " -475990.2013888889,\n",
              " -187632.18717948723,\n",
              " -80070.83333333337,\n",
              " -51264.097167758155,\n",
              " -25496.717814966018,\n",
              " -16984.05114829939,\n",
              " -8950.522032828321,\n",
              " -6505.661792293331,\n",
              " -4227.552136752168,\n",
              " -3267.91379928319,\n",
              " -2467.928535299764,\n",
              " -1835.6678825475474]"
            ]
          },
          "metadata": {
            "tags": []
          },
          "execution_count": 17
        }
      ]
    },
    {
      "cell_type": "code",
      "metadata": {
        "id": "VbHggQ8FGzpg",
        "colab_type": "code",
        "outputId": "97a7e600-463e-4c6f-e9d0-68dbdfaa5bc2",
        "colab": {
          "base_uri": "https://localhost:8080/",
          "height": 295
        }
      },
      "source": [
        "\n",
        "plt.plot(Nc,score)\n",
        "plt.xlabel('Number of Clusters')\n",
        "plt.ylabel('Score')\n",
        "plt.title('Elbow Curve')\n",
        "plt.show()\n"
      ],
      "execution_count": 19,
      "outputs": [
        {
          "output_type": "display_data",
          "data": {
            "image/png": "[encoded data removed]",
            "text/plain": [
              "<Figure size 432x288 with 1 Axes>"
            ]
          },
          "metadata": {
            "tags": []
          }
        }
      ]
    },
    {
      "cell_type": "markdown",
      "metadata": {
        "id": "fnjB1c3YIZh0",
        "colab_type": "text"
      },
      "source": [
        "here we observe elbow in above  graph the optimal value for k will be 3 or 4"
      ]
    },
    {
      "cell_type": "code",
      "metadata": {
        "id": "FRME_bfLgccl",
        "colab_type": "code",
        "colab": {}
      },
      "source": [
        "clustering=KMeans(n_clusters=4,random_state=123)"
      ],
      "execution_count": 0,
      "outputs": []
    },
    {
      "cell_type": "code",
      "metadata": {
        "id": "3_-JnenlgrAS",
        "colab_type": "code",
        "outputId": "c02564e1-e6b6-4485-8732-a995b564b4ea",
        "colab": {
          "base_uri": "https://localhost:8080/",
          "height": 68
        }
      },
      "source": [
        "clustering.fit(x)"
      ],
      "execution_count": 31,
      "outputs": [
        {
          "output_type": "execute_result",
          "data": {
            "text/plain": [
              "KMeans(algorithm='auto', copy_x=True, init='k-means++', max_iter=300,\n",
              "       n_clusters=4, n_init=10, n_jobs=None, precompute_distances='auto',\n",
              "       random_state=123, tol=0.0001, verbose=0)"
            ]
          },
          "metadata": {
            "tags": []
          },
          "execution_count": 31
        }
      ]
    },
    {
      "cell_type": "code",
      "metadata": {
        "id": "eTwAyI4zrAhi",
        "colab_type": "code",
        "outputId": "def9734a-ba75-4710-f255-3fac3b0215c0",
        "colab": {
          "base_uri": "https://localhost:8080/",
          "height": 85
        }
      },
      "source": [
        "clusters=clustering.cluster_centers_\n",
        "clusters"
      ],
      "execution_count": 32,
      "outputs": [
        {
          "output_type": "execute_result",
          "data": {
            "text/plain": [
              "array([[   4438.2815534],\n",
              "       [2473544.       ],\n",
              "       [ 891682.       ],\n",
              "       [ 290567.5      ]])"
            ]
          },
          "metadata": {
            "tags": []
          },
          "execution_count": 32
        }
      ]
    },
    {
      "cell_type": "code",
      "metadata": {
        "id": "RIDR4ZNi3jqw",
        "colab_type": "code",
        "outputId": "c13066c0-aff1-4a19-9c9d-5434f7075f69",
        "colab": {
          "base_uri": "https://localhost:8080/",
          "height": 187
        }
      },
      "source": [
        "label=clustering.labels_\n",
        "label"
      ],
      "execution_count": 27,
      "outputs": [
        {
          "output_type": "execute_result",
          "data": {
            "text/plain": [
              "array([0, 0, 0, 0, 0, 0, 0, 0, 0, 0, 0, 0, 0, 0, 0, 0, 0, 0, 0, 0, 0, 0,\n",
              "       0, 0, 0, 0, 0, 0, 0, 0, 0, 0, 0, 0, 0, 0, 0, 2, 0, 0, 0, 0, 0, 0,\n",
              "       0, 0, 0, 0, 0, 0, 0, 0, 0, 0, 0, 0, 0, 0, 0, 0, 0, 0, 0, 0, 0, 0,\n",
              "       0, 0, 0, 0, 0, 0, 0, 0, 0, 0, 0, 0, 0, 0, 0, 0, 0, 0, 0, 0, 0, 0,\n",
              "       0, 0, 3, 0, 0, 0, 0, 3, 0, 0, 0, 0, 0, 0, 0, 0, 0, 0, 0, 0, 0, 0,\n",
              "       0, 0, 0, 0, 0, 0, 1, 0, 0, 0, 0, 0, 0, 0, 0, 0, 0, 0, 0, 0, 0, 0,\n",
              "       0, 0, 0, 0, 0, 0, 0, 0, 0, 0, 0, 0, 0, 0, 0, 0, 0, 0, 0, 0, 0, 0,\n",
              "       0, 0, 0, 0, 0, 0, 0, 0, 0, 0, 0, 0, 0, 0, 0, 0, 0, 0, 0, 0, 0, 0,\n",
              "       0, 0, 0, 0, 0, 0, 0, 0, 0, 0, 0, 0, 0, 0, 0, 0, 0, 0, 0, 0, 0, 0,\n",
              "       0, 0, 0, 0, 0, 0, 0, 0, 0, 0, 0, 0], dtype=int32)"
            ]
          },
          "metadata": {
            "tags": []
          },
          "execution_count": 27
        }
      ]
    },
    {
      "cell_type": "code",
      "metadata": {
        "id": "TT7tzkib5Bn7",
        "colab_type": "code",
        "colab": {
          "base_uri": "https://localhost:8080/",
          "height": 296
        },
        "outputId": "019eed97-4c51-46e9-e171-2577feecab1e"
      },
      "source": [
        "#This shows the scatter plot between the confirmed cases and death cases\n",
        "plt.scatter(x,y)"
      ],
      "execution_count": 42,
      "outputs": [
        {
          "output_type": "execute_result",
          "data": {
            "text/plain": [
              "<matplotlib.collections.PathCollection at 0x7fbdb0671d30>"
            ]
          },
          "metadata": {
            "tags": []
          },
          "execution_count": 42
        },
        {
          "output_type": "display_data",
          "data": {
            "image/png": "[encoded data removed]",
            "text/plain": [
              "<Figure size 432x288 with 1 Axes>"
            ]
          },
          "metadata": {
            "tags": []
          }
        }
      ]
    },
    {
      "cell_type": "code",
      "metadata": {
        "id": "Jd-8_ptW4Bmi",
        "colab_type": "code",
        "outputId": "bb7b1324-4760-4c3f-9931-03ea158d5624",
        "colab": {
          "base_uri": "https://localhost:8080/",
          "height": 306
        }
      },
      "source": [
        "#The data above can be grouped as clusters.\n",
        "plt.scatter(clusters[:,0],clusters[:,0],s=150)\n"
      ],
      "execution_count": 43,
      "outputs": [
        {
          "output_type": "execute_result",
          "data": {
            "text/plain": [
              "<matplotlib.collections.PathCollection at 0x7fbdb02fbb70>"
            ]
          },
          "metadata": {
            "tags": []
          },
          "execution_count": 43
        },
        {
          "output_type": "display_data",
          "data": {
            "image/png": "[encoded data removed]",
            "text/plain": [
              "<Figure size 432x288 with 1 Axes>"
            ]
          },
          "metadata": {
            "tags": []
          }
        }
      ]
    },
    {
      "cell_type": "markdown",
      "metadata": {
        "id": "6Ha33AsiSGRP",
        "colab_type": "text"
      },
      "source": [
        "**CONCLUSION**\n",
        "\n",
        "At first we have merged all the datasets which were based on dates into a large single datasets using concatinating and then we have grouped the data based on the country/region.And we took confirmed,recovered,deaths as features.Then we applied kmeans clustering and found scores which are  errors.Then using elbow method we found suitable values of k. From the grouped data, we observe that the rate of death is increased and keep on increasing further."
      ]
    },
    {
      "cell_type": "markdown",
      "metadata": {
        "id": "R2E_OrZUUBhC",
        "colab_type": "text"
      },
      "source": [
        "**GROUP** **CONTRIBUTORS**\n",
        "\n",
        "1.M.SAI SARANYA -19PA1A0497\n",
        "\n",
        "2.V.MAHITA-19PA1A0495\n",
        "\n",
        "3.J.MONIKA-19PA1A0462\n",
        "\n",
        "4.J.HARIKA-19PA1A0463\n"
      ]
    }
  ]
}